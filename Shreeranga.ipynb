{
 "cells": [
  {
   "cell_type": "code",
   "execution_count": 74,
   "metadata": {},
   "outputs": [],
   "source": [
    "import pandas as pd\n",
    "import numpy as np\n",
    "import os"
   ]
  },
  {
   "cell_type": "code",
   "execution_count": 75,
   "metadata": {},
   "outputs": [],
   "source": [
    "os.chdir('C:\\\\Users\\\\skv\\\\Downloads\\\\drive-download-20210428T114902Z-001-1\\drive-download-20210428T114902Z-001')"
   ]
  },
  {
   "cell_type": "code",
   "execution_count": 76,
   "metadata": {},
   "outputs": [],
   "source": [
    "df=pd.read_csv('df.csv')"
   ]
  },
  {
   "cell_type": "code",
   "execution_count": 77,
   "metadata": {},
   "outputs": [
    {
     "data": {
      "text/html": [
       "<div>\n",
       "<style scoped>\n",
       "    .dataframe tbody tr th:only-of-type {\n",
       "        vertical-align: middle;\n",
       "    }\n",
       "\n",
       "    .dataframe tbody tr th {\n",
       "        vertical-align: top;\n",
       "    }\n",
       "\n",
       "    .dataframe thead th {\n",
       "        text-align: right;\n",
       "    }\n",
       "</style>\n",
       "<table border=\"1\" class=\"dataframe\">\n",
       "  <thead>\n",
       "    <tr style=\"text-align: right;\">\n",
       "      <th></th>\n",
       "      <th>SEQN</th>\n",
       "      <th>SDDSRVYR</th>\n",
       "      <th>RIDSTATR</th>\n",
       "      <th>RIAGENDR</th>\n",
       "      <th>RIDAGEYR</th>\n",
       "      <th>RIDAGEMN</th>\n",
       "      <th>RIDRETH1</th>\n",
       "      <th>RIDRETH3</th>\n",
       "      <th>RIDEXMON</th>\n",
       "      <th>RIDEXAGM</th>\n",
       "      <th>...</th>\n",
       "      <th>DRD340</th>\n",
       "      <th>DRD360</th>\n",
       "      <th>URXUMA</th>\n",
       "      <th>URXUMS</th>\n",
       "      <th>URXUCR.x</th>\n",
       "      <th>URXCRS</th>\n",
       "      <th>URDACT</th>\n",
       "      <th>LBXSAL</th>\n",
       "      <th>LBDSALSI</th>\n",
       "      <th>LBXSAPSI</th>\n",
       "    </tr>\n",
       "  </thead>\n",
       "  <tbody>\n",
       "    <tr>\n",
       "      <th>0</th>\n",
       "      <td>73557</td>\n",
       "      <td>8</td>\n",
       "      <td>2</td>\n",
       "      <td>1</td>\n",
       "      <td>69</td>\n",
       "      <td>NaN</td>\n",
       "      <td>4</td>\n",
       "      <td>4</td>\n",
       "      <td>1</td>\n",
       "      <td>NaN</td>\n",
       "      <td>...</td>\n",
       "      <td>6.586219</td>\n",
       "      <td>-6.527018</td>\n",
       "      <td>9.182882</td>\n",
       "      <td>-9.018023</td>\n",
       "      <td>-6.181923</td>\n",
       "      <td>5.151193</td>\n",
       "      <td>-9.708139</td>\n",
       "      <td>2.814690</td>\n",
       "      <td>-2.712184</td>\n",
       "      <td>-6.811191</td>\n",
       "    </tr>\n",
       "    <tr>\n",
       "      <th>1</th>\n",
       "      <td>73558</td>\n",
       "      <td>8</td>\n",
       "      <td>2</td>\n",
       "      <td>1</td>\n",
       "      <td>54</td>\n",
       "      <td>NaN</td>\n",
       "      <td>3</td>\n",
       "      <td>3</td>\n",
       "      <td>1</td>\n",
       "      <td>NaN</td>\n",
       "      <td>...</td>\n",
       "      <td>-9.588554</td>\n",
       "      <td>1.863741</td>\n",
       "      <td>-9.378731</td>\n",
       "      <td>8.289190</td>\n",
       "      <td>-2.561066</td>\n",
       "      <td>-3.755943</td>\n",
       "      <td>1.406037</td>\n",
       "      <td>7.590942</td>\n",
       "      <td>0.480820</td>\n",
       "      <td>-4.636475</td>\n",
       "    </tr>\n",
       "    <tr>\n",
       "      <th>2</th>\n",
       "      <td>73559</td>\n",
       "      <td>8</td>\n",
       "      <td>2</td>\n",
       "      <td>1</td>\n",
       "      <td>72</td>\n",
       "      <td>NaN</td>\n",
       "      <td>3</td>\n",
       "      <td>3</td>\n",
       "      <td>2</td>\n",
       "      <td>NaN</td>\n",
       "      <td>...</td>\n",
       "      <td>-5.229054</td>\n",
       "      <td>6.379788</td>\n",
       "      <td>-9.433054</td>\n",
       "      <td>-9.285869</td>\n",
       "      <td>9.248429</td>\n",
       "      <td>-7.439368</td>\n",
       "      <td>8.374918</td>\n",
       "      <td>8.401561</td>\n",
       "      <td>-9.936335</td>\n",
       "      <td>0.913262</td>\n",
       "    </tr>\n",
       "    <tr>\n",
       "      <th>3</th>\n",
       "      <td>73560</td>\n",
       "      <td>8</td>\n",
       "      <td>2</td>\n",
       "      <td>1</td>\n",
       "      <td>9</td>\n",
       "      <td>NaN</td>\n",
       "      <td>3</td>\n",
       "      <td>3</td>\n",
       "      <td>1</td>\n",
       "      <td>119.0</td>\n",
       "      <td>...</td>\n",
       "      <td>7.428271</td>\n",
       "      <td>-1.193575</td>\n",
       "      <td>6.972074</td>\n",
       "      <td>-0.257756</td>\n",
       "      <td>-5.087773</td>\n",
       "      <td>8.581422</td>\n",
       "      <td>4.767615</td>\n",
       "      <td>9.760521</td>\n",
       "      <td>-4.708915</td>\n",
       "      <td>7.624684</td>\n",
       "    </tr>\n",
       "    <tr>\n",
       "      <th>4</th>\n",
       "      <td>73561</td>\n",
       "      <td>8</td>\n",
       "      <td>2</td>\n",
       "      <td>2</td>\n",
       "      <td>73</td>\n",
       "      <td>NaN</td>\n",
       "      <td>3</td>\n",
       "      <td>3</td>\n",
       "      <td>1</td>\n",
       "      <td>NaN</td>\n",
       "      <td>...</td>\n",
       "      <td>2.125105</td>\n",
       "      <td>-2.906226</td>\n",
       "      <td>1.977286</td>\n",
       "      <td>-1.322955</td>\n",
       "      <td>-1.034636</td>\n",
       "      <td>6.702919</td>\n",
       "      <td>-1.735375</td>\n",
       "      <td>-4.799543</td>\n",
       "      <td>1.194572</td>\n",
       "      <td>-7.098007</td>\n",
       "    </tr>\n",
       "  </tbody>\n",
       "</table>\n",
       "<p>5 rows × 636 columns</p>\n",
       "</div>"
      ],
      "text/plain": [
       "    SEQN  SDDSRVYR  RIDSTATR  RIAGENDR  RIDAGEYR  RIDAGEMN  RIDRETH1  \\\n",
       "0  73557         8         2         1        69       NaN         4   \n",
       "1  73558         8         2         1        54       NaN         3   \n",
       "2  73559         8         2         1        72       NaN         3   \n",
       "3  73560         8         2         1         9       NaN         3   \n",
       "4  73561         8         2         2        73       NaN         3   \n",
       "\n",
       "   RIDRETH3  RIDEXMON  RIDEXAGM  ...    DRD340    DRD360    URXUMA    URXUMS  \\\n",
       "0         4         1       NaN  ...  6.586219 -6.527018  9.182882 -9.018023   \n",
       "1         3         1       NaN  ... -9.588554  1.863741 -9.378731  8.289190   \n",
       "2         3         2       NaN  ... -5.229054  6.379788 -9.433054 -9.285869   \n",
       "3         3         1     119.0  ...  7.428271 -1.193575  6.972074 -0.257756   \n",
       "4         3         1       NaN  ...  2.125105 -2.906226  1.977286 -1.322955   \n",
       "\n",
       "   URXUCR.x    URXCRS    URDACT    LBXSAL  LBDSALSI  LBXSAPSI  \n",
       "0 -6.181923  5.151193 -9.708139  2.814690 -2.712184 -6.811191  \n",
       "1 -2.561066 -3.755943  1.406037  7.590942  0.480820 -4.636475  \n",
       "2  9.248429 -7.439368  8.374918  8.401561 -9.936335  0.913262  \n",
       "3 -5.087773  8.581422  4.767615  9.760521 -4.708915  7.624684  \n",
       "4 -1.034636  6.702919 -1.735375 -4.799543  1.194572 -7.098007  \n",
       "\n",
       "[5 rows x 636 columns]"
      ]
     },
     "execution_count": 77,
     "metadata": {},
     "output_type": "execute_result"
    }
   ],
   "source": [
    "df.head()"
   ]
  },
  {
   "cell_type": "code",
   "execution_count": 78,
   "metadata": {},
   "outputs": [],
   "source": [
    "df.fillna(0,inplace=True)"
   ]
  },
  {
   "cell_type": "code",
   "execution_count": 79,
   "metadata": {},
   "outputs": [],
   "source": [
    "df2=df[list(df.columns[1:])]"
   ]
  },
  {
   "cell_type": "code",
   "execution_count": 80,
   "metadata": {},
   "outputs": [],
   "source": [
    "uselessCols=[]\n",
    "def checkForCategoricalVarsWhichIsNotGivingRelavantInfo(df):\n",
    "    for item in df.columns:\n",
    "        if(len(df[item].value_counts())==1):\n",
    "            uselessCols.append(item)\n",
    "            print(df[item].value_counts())\n",
    "            print()"
   ]
  },
  {
   "cell_type": "code",
   "execution_count": 81,
   "metadata": {},
   "outputs": [
    {
     "name": "stdout",
     "output_type": "stream",
     "text": [
      "8    9813\n",
      "Name: SDDSRVYR, dtype: int64\n",
      "\n",
      "2    9813\n",
      "Name: RIDSTATR, dtype: int64\n",
      "\n",
      "0.0    9813\n",
      "Name: DRQSDT5, dtype: int64\n",
      "\n",
      "0.0    9813\n",
      "Name: URDP02LC, dtype: int64\n",
      "\n",
      "0.0    9813\n",
      "Name: LBDBPBLC, dtype: int64\n",
      "\n",
      "0.0    9813\n",
      "Name: LBDBSELC, dtype: int64\n",
      "\n",
      "0.0    9813\n",
      "Name: LBDBMNLC, dtype: int64\n",
      "\n",
      "0.0    9813\n",
      "Name: URDUCSLC, dtype: int64\n",
      "\n",
      "0.0    9813\n",
      "Name: URDUMOLC, dtype: int64\n",
      "\n"
     ]
    }
   ],
   "source": [
    "checkForCategoricalVarsWhichIsNotGivingRelavantInfo(df2)"
   ]
  },
  {
   "cell_type": "code",
   "execution_count": 82,
   "metadata": {},
   "outputs": [
    {
     "name": "stderr",
     "output_type": "stream",
     "text": [
      "C:\\Users\\skv\\anaconda3\\lib\\site-packages\\pandas\\core\\frame.py:4163: SettingWithCopyWarning: \n",
      "A value is trying to be set on a copy of a slice from a DataFrame\n",
      "\n",
      "See the caveats in the documentation: https://pandas.pydata.org/pandas-docs/stable/user_guide/indexing.html#returning-a-view-versus-a-copy\n",
      "  return super().drop(\n"
     ]
    }
   ],
   "source": [
    "df2.drop(columns=uselessCols,inplace=True)"
   ]
  },
  {
   "cell_type": "code",
   "execution_count": 83,
   "metadata": {},
   "outputs": [
    {
     "data": {
      "text/html": [
       "<div>\n",
       "<style scoped>\n",
       "    .dataframe tbody tr th:only-of-type {\n",
       "        vertical-align: middle;\n",
       "    }\n",
       "\n",
       "    .dataframe tbody tr th {\n",
       "        vertical-align: top;\n",
       "    }\n",
       "\n",
       "    .dataframe thead th {\n",
       "        text-align: right;\n",
       "    }\n",
       "</style>\n",
       "<table border=\"1\" class=\"dataframe\">\n",
       "  <thead>\n",
       "    <tr style=\"text-align: right;\">\n",
       "      <th></th>\n",
       "      <th>RIAGENDR</th>\n",
       "      <th>RIDAGEYR</th>\n",
       "      <th>RIDAGEMN</th>\n",
       "      <th>RIDRETH1</th>\n",
       "      <th>RIDRETH3</th>\n",
       "      <th>RIDEXMON</th>\n",
       "      <th>RIDEXAGM</th>\n",
       "      <th>DMQMILIZ</th>\n",
       "      <th>DMQADFC</th>\n",
       "      <th>DMDBORN4</th>\n",
       "      <th>...</th>\n",
       "      <th>DRD340</th>\n",
       "      <th>DRD360</th>\n",
       "      <th>URXUMA</th>\n",
       "      <th>URXUMS</th>\n",
       "      <th>URXUCR.x</th>\n",
       "      <th>URXCRS</th>\n",
       "      <th>URDACT</th>\n",
       "      <th>LBXSAL</th>\n",
       "      <th>LBDSALSI</th>\n",
       "      <th>LBXSAPSI</th>\n",
       "    </tr>\n",
       "  </thead>\n",
       "  <tbody>\n",
       "    <tr>\n",
       "      <th>0</th>\n",
       "      <td>1</td>\n",
       "      <td>69</td>\n",
       "      <td>0.0</td>\n",
       "      <td>4</td>\n",
       "      <td>4</td>\n",
       "      <td>1</td>\n",
       "      <td>0.0</td>\n",
       "      <td>1.0</td>\n",
       "      <td>1.0</td>\n",
       "      <td>1</td>\n",
       "      <td>...</td>\n",
       "      <td>6.586219</td>\n",
       "      <td>-6.527018</td>\n",
       "      <td>9.182882</td>\n",
       "      <td>-9.018023</td>\n",
       "      <td>-6.181923</td>\n",
       "      <td>5.151193</td>\n",
       "      <td>-9.708139</td>\n",
       "      <td>2.814690</td>\n",
       "      <td>-2.712184</td>\n",
       "      <td>-6.811191</td>\n",
       "    </tr>\n",
       "    <tr>\n",
       "      <th>1</th>\n",
       "      <td>1</td>\n",
       "      <td>54</td>\n",
       "      <td>0.0</td>\n",
       "      <td>3</td>\n",
       "      <td>3</td>\n",
       "      <td>1</td>\n",
       "      <td>0.0</td>\n",
       "      <td>2.0</td>\n",
       "      <td>0.0</td>\n",
       "      <td>1</td>\n",
       "      <td>...</td>\n",
       "      <td>-9.588554</td>\n",
       "      <td>1.863741</td>\n",
       "      <td>-9.378731</td>\n",
       "      <td>8.289190</td>\n",
       "      <td>-2.561066</td>\n",
       "      <td>-3.755943</td>\n",
       "      <td>1.406037</td>\n",
       "      <td>7.590942</td>\n",
       "      <td>0.480820</td>\n",
       "      <td>-4.636475</td>\n",
       "    </tr>\n",
       "    <tr>\n",
       "      <th>2</th>\n",
       "      <td>1</td>\n",
       "      <td>72</td>\n",
       "      <td>0.0</td>\n",
       "      <td>3</td>\n",
       "      <td>3</td>\n",
       "      <td>2</td>\n",
       "      <td>0.0</td>\n",
       "      <td>1.0</td>\n",
       "      <td>1.0</td>\n",
       "      <td>1</td>\n",
       "      <td>...</td>\n",
       "      <td>-5.229054</td>\n",
       "      <td>6.379788</td>\n",
       "      <td>-9.433054</td>\n",
       "      <td>-9.285869</td>\n",
       "      <td>9.248429</td>\n",
       "      <td>-7.439368</td>\n",
       "      <td>8.374918</td>\n",
       "      <td>8.401561</td>\n",
       "      <td>-9.936335</td>\n",
       "      <td>0.913262</td>\n",
       "    </tr>\n",
       "    <tr>\n",
       "      <th>3</th>\n",
       "      <td>1</td>\n",
       "      <td>9</td>\n",
       "      <td>0.0</td>\n",
       "      <td>3</td>\n",
       "      <td>3</td>\n",
       "      <td>1</td>\n",
       "      <td>119.0</td>\n",
       "      <td>0.0</td>\n",
       "      <td>0.0</td>\n",
       "      <td>1</td>\n",
       "      <td>...</td>\n",
       "      <td>7.428271</td>\n",
       "      <td>-1.193575</td>\n",
       "      <td>6.972074</td>\n",
       "      <td>-0.257756</td>\n",
       "      <td>-5.087773</td>\n",
       "      <td>8.581422</td>\n",
       "      <td>4.767615</td>\n",
       "      <td>9.760521</td>\n",
       "      <td>-4.708915</td>\n",
       "      <td>7.624684</td>\n",
       "    </tr>\n",
       "    <tr>\n",
       "      <th>4</th>\n",
       "      <td>2</td>\n",
       "      <td>73</td>\n",
       "      <td>0.0</td>\n",
       "      <td>3</td>\n",
       "      <td>3</td>\n",
       "      <td>1</td>\n",
       "      <td>0.0</td>\n",
       "      <td>2.0</td>\n",
       "      <td>0.0</td>\n",
       "      <td>1</td>\n",
       "      <td>...</td>\n",
       "      <td>2.125105</td>\n",
       "      <td>-2.906226</td>\n",
       "      <td>1.977286</td>\n",
       "      <td>-1.322955</td>\n",
       "      <td>-1.034636</td>\n",
       "      <td>6.702919</td>\n",
       "      <td>-1.735375</td>\n",
       "      <td>-4.799543</td>\n",
       "      <td>1.194572</td>\n",
       "      <td>-7.098007</td>\n",
       "    </tr>\n",
       "  </tbody>\n",
       "</table>\n",
       "<p>5 rows × 626 columns</p>\n",
       "</div>"
      ],
      "text/plain": [
       "   RIAGENDR  RIDAGEYR  RIDAGEMN  RIDRETH1  RIDRETH3  RIDEXMON  RIDEXAGM  \\\n",
       "0         1        69       0.0         4         4         1       0.0   \n",
       "1         1        54       0.0         3         3         1       0.0   \n",
       "2         1        72       0.0         3         3         2       0.0   \n",
       "3         1         9       0.0         3         3         1     119.0   \n",
       "4         2        73       0.0         3         3         1       0.0   \n",
       "\n",
       "   DMQMILIZ  DMQADFC  DMDBORN4  ...    DRD340    DRD360    URXUMA    URXUMS  \\\n",
       "0       1.0      1.0         1  ...  6.586219 -6.527018  9.182882 -9.018023   \n",
       "1       2.0      0.0         1  ... -9.588554  1.863741 -9.378731  8.289190   \n",
       "2       1.0      1.0         1  ... -5.229054  6.379788 -9.433054 -9.285869   \n",
       "3       0.0      0.0         1  ...  7.428271 -1.193575  6.972074 -0.257756   \n",
       "4       2.0      0.0         1  ...  2.125105 -2.906226  1.977286 -1.322955   \n",
       "\n",
       "   URXUCR.x    URXCRS    URDACT    LBXSAL  LBDSALSI  LBXSAPSI  \n",
       "0 -6.181923  5.151193 -9.708139  2.814690 -2.712184 -6.811191  \n",
       "1 -2.561066 -3.755943  1.406037  7.590942  0.480820 -4.636475  \n",
       "2  9.248429 -7.439368  8.374918  8.401561 -9.936335  0.913262  \n",
       "3 -5.087773  8.581422  4.767615  9.760521 -4.708915  7.624684  \n",
       "4 -1.034636  6.702919 -1.735375 -4.799543  1.194572 -7.098007  \n",
       "\n",
       "[5 rows x 626 columns]"
      ]
     },
     "execution_count": 83,
     "metadata": {},
     "output_type": "execute_result"
    }
   ],
   "source": [
    "df2.head()"
   ]
  },
  {
   "cell_type": "code",
   "execution_count": 84,
   "metadata": {},
   "outputs": [],
   "source": [
    "categoricalColumns=[]\n",
    "def checkForCategoricalVarsWhichIsNotGivingRelavantInfo(df):\n",
    "    for item in df.columns:\n",
    "        if(len(df[item].value_counts())==2):\n",
    "            categoricalColumns.append(item)"
   ]
  },
  {
   "cell_type": "code",
   "execution_count": 85,
   "metadata": {},
   "outputs": [],
   "source": [
    "checkForCategoricalVarsWhichIsNotGivingRelavantInfo(df2)"
   ]
  },
  {
   "cell_type": "code",
   "execution_count": 86,
   "metadata": {},
   "outputs": [
    {
     "name": "stderr",
     "output_type": "stream",
     "text": [
      "C:\\Users\\skv\\anaconda3\\lib\\site-packages\\pandas\\core\\frame.py:3065: SettingWithCopyWarning: \n",
      "A value is trying to be set on a copy of a slice from a DataFrame.\n",
      "Try using .loc[row_indexer,col_indexer] = value instead\n",
      "\n",
      "See the caveats in the documentation: https://pandas.pydata.org/pandas-docs/stable/user_guide/indexing.html#returning-a-view-versus-a-copy\n",
      "  self[k1] = value[k2]\n"
     ]
    }
   ],
   "source": [
    "df2[categoricalColumns]=df2[categoricalColumns].astype(object)"
   ]
  },
  {
   "cell_type": "code",
   "execution_count": 87,
   "metadata": {},
   "outputs": [],
   "source": [
    "df2_cat=df2.select_dtypes(include=[np.object])"
   ]
  },
  {
   "cell_type": "code",
   "execution_count": 88,
   "metadata": {},
   "outputs": [
    {
     "data": {
      "text/html": [
       "<div>\n",
       "<style scoped>\n",
       "    .dataframe tbody tr th:only-of-type {\n",
       "        vertical-align: middle;\n",
       "    }\n",
       "\n",
       "    .dataframe tbody tr th {\n",
       "        vertical-align: top;\n",
       "    }\n",
       "\n",
       "    .dataframe thead th {\n",
       "        text-align: right;\n",
       "    }\n",
       "</style>\n",
       "<table border=\"1\" class=\"dataframe\">\n",
       "  <thead>\n",
       "    <tr style=\"text-align: right;\">\n",
       "      <th></th>\n",
       "      <th>RIAGENDR</th>\n",
       "      <th>RIDEXMON</th>\n",
       "      <th>SIALANG</th>\n",
       "      <th>SIAINTRP</th>\n",
       "      <th>DMDHRGND</th>\n",
       "      <th>SDMVPSU</th>\n",
       "      <th>DRQSDT1</th>\n",
       "      <th>DRQSDT2</th>\n",
       "      <th>DRQSDT3</th>\n",
       "      <th>DRQSDT4</th>\n",
       "      <th>...</th>\n",
       "      <th>URDUCDLC</th>\n",
       "      <th>URDUCOLC</th>\n",
       "      <th>URDUMNLC</th>\n",
       "      <th>URDUPBLC</th>\n",
       "      <th>URDUSBLC</th>\n",
       "      <th>URDUSNLC</th>\n",
       "      <th>URDUSRLC</th>\n",
       "      <th>URDUTLLC</th>\n",
       "      <th>URDUTULC</th>\n",
       "      <th>URDUURLC</th>\n",
       "    </tr>\n",
       "  </thead>\n",
       "  <tbody>\n",
       "    <tr>\n",
       "      <th>0</th>\n",
       "      <td>1</td>\n",
       "      <td>1</td>\n",
       "      <td>1</td>\n",
       "      <td>2</td>\n",
       "      <td>1</td>\n",
       "      <td>1</td>\n",
       "      <td>0</td>\n",
       "      <td>0</td>\n",
       "      <td>0</td>\n",
       "      <td>0</td>\n",
       "      <td>...</td>\n",
       "      <td>0</td>\n",
       "      <td>0</td>\n",
       "      <td>0</td>\n",
       "      <td>0</td>\n",
       "      <td>0</td>\n",
       "      <td>0</td>\n",
       "      <td>0</td>\n",
       "      <td>0</td>\n",
       "      <td>0</td>\n",
       "      <td>0</td>\n",
       "    </tr>\n",
       "    <tr>\n",
       "      <th>1</th>\n",
       "      <td>1</td>\n",
       "      <td>1</td>\n",
       "      <td>1</td>\n",
       "      <td>2</td>\n",
       "      <td>1</td>\n",
       "      <td>1</td>\n",
       "      <td>0</td>\n",
       "      <td>0</td>\n",
       "      <td>0</td>\n",
       "      <td>0</td>\n",
       "      <td>...</td>\n",
       "      <td>0</td>\n",
       "      <td>0</td>\n",
       "      <td>0</td>\n",
       "      <td>0</td>\n",
       "      <td>0</td>\n",
       "      <td>0</td>\n",
       "      <td>0</td>\n",
       "      <td>0</td>\n",
       "      <td>0</td>\n",
       "      <td>0</td>\n",
       "    </tr>\n",
       "    <tr>\n",
       "      <th>2</th>\n",
       "      <td>1</td>\n",
       "      <td>2</td>\n",
       "      <td>1</td>\n",
       "      <td>2</td>\n",
       "      <td>1</td>\n",
       "      <td>1</td>\n",
       "      <td>0</td>\n",
       "      <td>0</td>\n",
       "      <td>0</td>\n",
       "      <td>0</td>\n",
       "      <td>...</td>\n",
       "      <td>0</td>\n",
       "      <td>0</td>\n",
       "      <td>0</td>\n",
       "      <td>0</td>\n",
       "      <td>0</td>\n",
       "      <td>0</td>\n",
       "      <td>0</td>\n",
       "      <td>0</td>\n",
       "      <td>0</td>\n",
       "      <td>0</td>\n",
       "    </tr>\n",
       "    <tr>\n",
       "      <th>3</th>\n",
       "      <td>1</td>\n",
       "      <td>1</td>\n",
       "      <td>1</td>\n",
       "      <td>2</td>\n",
       "      <td>1</td>\n",
       "      <td>2</td>\n",
       "      <td>0</td>\n",
       "      <td>0</td>\n",
       "      <td>0</td>\n",
       "      <td>0</td>\n",
       "      <td>...</td>\n",
       "      <td>1</td>\n",
       "      <td>0</td>\n",
       "      <td>1</td>\n",
       "      <td>0</td>\n",
       "      <td>0</td>\n",
       "      <td>0</td>\n",
       "      <td>0</td>\n",
       "      <td>0</td>\n",
       "      <td>0</td>\n",
       "      <td>0</td>\n",
       "    </tr>\n",
       "    <tr>\n",
       "      <th>4</th>\n",
       "      <td>2</td>\n",
       "      <td>1</td>\n",
       "      <td>1</td>\n",
       "      <td>2</td>\n",
       "      <td>1</td>\n",
       "      <td>2</td>\n",
       "      <td>0</td>\n",
       "      <td>0</td>\n",
       "      <td>0</td>\n",
       "      <td>0</td>\n",
       "      <td>...</td>\n",
       "      <td>0</td>\n",
       "      <td>0</td>\n",
       "      <td>0</td>\n",
       "      <td>0</td>\n",
       "      <td>0</td>\n",
       "      <td>0</td>\n",
       "      <td>0</td>\n",
       "      <td>0</td>\n",
       "      <td>0</td>\n",
       "      <td>0</td>\n",
       "    </tr>\n",
       "  </tbody>\n",
       "</table>\n",
       "<p>5 rows × 85 columns</p>\n",
       "</div>"
      ],
      "text/plain": [
       "  RIAGENDR RIDEXMON SIALANG SIAINTRP DMDHRGND SDMVPSU DRQSDT1 DRQSDT2 DRQSDT3  \\\n",
       "0        1        1       1        2        1       1       0       0       0   \n",
       "1        1        1       1        2        1       1       0       0       0   \n",
       "2        1        2       1        2        1       1       0       0       0   \n",
       "3        1        1       1        2        1       2       0       0       0   \n",
       "4        2        1       1        2        1       2       0       0       0   \n",
       "\n",
       "  DRQSDT4  ... URDUCDLC URDUCOLC URDUMNLC URDUPBLC URDUSBLC URDUSNLC URDUSRLC  \\\n",
       "0       0  ...        0        0        0        0        0        0        0   \n",
       "1       0  ...        0        0        0        0        0        0        0   \n",
       "2       0  ...        0        0        0        0        0        0        0   \n",
       "3       0  ...        1        0        1        0        0        0        0   \n",
       "4       0  ...        0        0        0        0        0        0        0   \n",
       "\n",
       "  URDUTLLC URDUTULC URDUURLC  \n",
       "0        0        0        0  \n",
       "1        0        0        0  \n",
       "2        0        0        0  \n",
       "3        0        0        0  \n",
       "4        0        0        0  \n",
       "\n",
       "[5 rows x 85 columns]"
      ]
     },
     "execution_count": 88,
     "metadata": {},
     "output_type": "execute_result"
    }
   ],
   "source": [
    "df2_cat.head()"
   ]
  },
  {
   "cell_type": "code",
   "execution_count": 89,
   "metadata": {},
   "outputs": [
    {
     "data": {
      "text/html": [
       "<div>\n",
       "<style scoped>\n",
       "    .dataframe tbody tr th:only-of-type {\n",
       "        vertical-align: middle;\n",
       "    }\n",
       "\n",
       "    .dataframe tbody tr th {\n",
       "        vertical-align: top;\n",
       "    }\n",
       "\n",
       "    .dataframe thead th {\n",
       "        text-align: right;\n",
       "    }\n",
       "</style>\n",
       "<table border=\"1\" class=\"dataframe\">\n",
       "  <thead>\n",
       "    <tr style=\"text-align: right;\">\n",
       "      <th></th>\n",
       "      <th>RIDAGEYR</th>\n",
       "      <th>RIDAGEMN</th>\n",
       "      <th>RIDRETH1</th>\n",
       "      <th>RIDRETH3</th>\n",
       "      <th>RIDEXAGM</th>\n",
       "      <th>DMQMILIZ</th>\n",
       "      <th>DMQADFC</th>\n",
       "      <th>DMDBORN4</th>\n",
       "      <th>DMDCITZN</th>\n",
       "      <th>DMDYRSUS</th>\n",
       "      <th>...</th>\n",
       "      <th>DRD340</th>\n",
       "      <th>DRD360</th>\n",
       "      <th>URXUMA</th>\n",
       "      <th>URXUMS</th>\n",
       "      <th>URXUCR.x</th>\n",
       "      <th>URXCRS</th>\n",
       "      <th>URDACT</th>\n",
       "      <th>LBXSAL</th>\n",
       "      <th>LBDSALSI</th>\n",
       "      <th>LBXSAPSI</th>\n",
       "    </tr>\n",
       "  </thead>\n",
       "  <tbody>\n",
       "    <tr>\n",
       "      <th>0</th>\n",
       "      <td>69</td>\n",
       "      <td>0.0</td>\n",
       "      <td>4</td>\n",
       "      <td>4</td>\n",
       "      <td>0.0</td>\n",
       "      <td>1.0</td>\n",
       "      <td>1.0</td>\n",
       "      <td>1</td>\n",
       "      <td>1.0</td>\n",
       "      <td>0.0</td>\n",
       "      <td>...</td>\n",
       "      <td>6.586219</td>\n",
       "      <td>-6.527018</td>\n",
       "      <td>9.182882</td>\n",
       "      <td>-9.018023</td>\n",
       "      <td>-6.181923</td>\n",
       "      <td>5.151193</td>\n",
       "      <td>-9.708139</td>\n",
       "      <td>2.814690</td>\n",
       "      <td>-2.712184</td>\n",
       "      <td>-6.811191</td>\n",
       "    </tr>\n",
       "    <tr>\n",
       "      <th>1</th>\n",
       "      <td>54</td>\n",
       "      <td>0.0</td>\n",
       "      <td>3</td>\n",
       "      <td>3</td>\n",
       "      <td>0.0</td>\n",
       "      <td>2.0</td>\n",
       "      <td>0.0</td>\n",
       "      <td>1</td>\n",
       "      <td>1.0</td>\n",
       "      <td>0.0</td>\n",
       "      <td>...</td>\n",
       "      <td>-9.588554</td>\n",
       "      <td>1.863741</td>\n",
       "      <td>-9.378731</td>\n",
       "      <td>8.289190</td>\n",
       "      <td>-2.561066</td>\n",
       "      <td>-3.755943</td>\n",
       "      <td>1.406037</td>\n",
       "      <td>7.590942</td>\n",
       "      <td>0.480820</td>\n",
       "      <td>-4.636475</td>\n",
       "    </tr>\n",
       "    <tr>\n",
       "      <th>2</th>\n",
       "      <td>72</td>\n",
       "      <td>0.0</td>\n",
       "      <td>3</td>\n",
       "      <td>3</td>\n",
       "      <td>0.0</td>\n",
       "      <td>1.0</td>\n",
       "      <td>1.0</td>\n",
       "      <td>1</td>\n",
       "      <td>1.0</td>\n",
       "      <td>0.0</td>\n",
       "      <td>...</td>\n",
       "      <td>-5.229054</td>\n",
       "      <td>6.379788</td>\n",
       "      <td>-9.433054</td>\n",
       "      <td>-9.285869</td>\n",
       "      <td>9.248429</td>\n",
       "      <td>-7.439368</td>\n",
       "      <td>8.374918</td>\n",
       "      <td>8.401561</td>\n",
       "      <td>-9.936335</td>\n",
       "      <td>0.913262</td>\n",
       "    </tr>\n",
       "    <tr>\n",
       "      <th>3</th>\n",
       "      <td>9</td>\n",
       "      <td>0.0</td>\n",
       "      <td>3</td>\n",
       "      <td>3</td>\n",
       "      <td>119.0</td>\n",
       "      <td>0.0</td>\n",
       "      <td>0.0</td>\n",
       "      <td>1</td>\n",
       "      <td>1.0</td>\n",
       "      <td>0.0</td>\n",
       "      <td>...</td>\n",
       "      <td>7.428271</td>\n",
       "      <td>-1.193575</td>\n",
       "      <td>6.972074</td>\n",
       "      <td>-0.257756</td>\n",
       "      <td>-5.087773</td>\n",
       "      <td>8.581422</td>\n",
       "      <td>4.767615</td>\n",
       "      <td>9.760521</td>\n",
       "      <td>-4.708915</td>\n",
       "      <td>7.624684</td>\n",
       "    </tr>\n",
       "    <tr>\n",
       "      <th>4</th>\n",
       "      <td>73</td>\n",
       "      <td>0.0</td>\n",
       "      <td>3</td>\n",
       "      <td>3</td>\n",
       "      <td>0.0</td>\n",
       "      <td>2.0</td>\n",
       "      <td>0.0</td>\n",
       "      <td>1</td>\n",
       "      <td>1.0</td>\n",
       "      <td>0.0</td>\n",
       "      <td>...</td>\n",
       "      <td>2.125105</td>\n",
       "      <td>-2.906226</td>\n",
       "      <td>1.977286</td>\n",
       "      <td>-1.322955</td>\n",
       "      <td>-1.034636</td>\n",
       "      <td>6.702919</td>\n",
       "      <td>-1.735375</td>\n",
       "      <td>-4.799543</td>\n",
       "      <td>1.194572</td>\n",
       "      <td>-7.098007</td>\n",
       "    </tr>\n",
       "  </tbody>\n",
       "</table>\n",
       "<p>5 rows × 541 columns</p>\n",
       "</div>"
      ],
      "text/plain": [
       "   RIDAGEYR  RIDAGEMN  RIDRETH1  RIDRETH3  RIDEXAGM  DMQMILIZ  DMQADFC  \\\n",
       "0        69       0.0         4         4       0.0       1.0      1.0   \n",
       "1        54       0.0         3         3       0.0       2.0      0.0   \n",
       "2        72       0.0         3         3       0.0       1.0      1.0   \n",
       "3         9       0.0         3         3     119.0       0.0      0.0   \n",
       "4        73       0.0         3         3       0.0       2.0      0.0   \n",
       "\n",
       "   DMDBORN4  DMDCITZN  DMDYRSUS  ...    DRD340    DRD360    URXUMA    URXUMS  \\\n",
       "0         1       1.0       0.0  ...  6.586219 -6.527018  9.182882 -9.018023   \n",
       "1         1       1.0       0.0  ... -9.588554  1.863741 -9.378731  8.289190   \n",
       "2         1       1.0       0.0  ... -5.229054  6.379788 -9.433054 -9.285869   \n",
       "3         1       1.0       0.0  ...  7.428271 -1.193575  6.972074 -0.257756   \n",
       "4         1       1.0       0.0  ...  2.125105 -2.906226  1.977286 -1.322955   \n",
       "\n",
       "   URXUCR.x    URXCRS    URDACT    LBXSAL  LBDSALSI  LBXSAPSI  \n",
       "0 -6.181923  5.151193 -9.708139  2.814690 -2.712184 -6.811191  \n",
       "1 -2.561066 -3.755943  1.406037  7.590942  0.480820 -4.636475  \n",
       "2  9.248429 -7.439368  8.374918  8.401561 -9.936335  0.913262  \n",
       "3 -5.087773  8.581422  4.767615  9.760521 -4.708915  7.624684  \n",
       "4 -1.034636  6.702919 -1.735375 -4.799543  1.194572 -7.098007  \n",
       "\n",
       "[5 rows x 541 columns]"
      ]
     },
     "execution_count": 89,
     "metadata": {},
     "output_type": "execute_result"
    }
   ],
   "source": [
    "df2._get_numeric_data().head()"
   ]
  },
  {
   "cell_type": "code",
   "execution_count": 90,
   "metadata": {},
   "outputs": [],
   "source": [
    "dummy_var_df2=pd.get_dummies(data=df2_cat,drop_first=True)"
   ]
  },
  {
   "cell_type": "code",
   "execution_count": 91,
   "metadata": {},
   "outputs": [
    {
     "name": "stderr",
     "output_type": "stream",
     "text": [
      "C:\\Users\\skv\\anaconda3\\lib\\site-packages\\pandas\\core\\frame.py:4163: SettingWithCopyWarning: \n",
      "A value is trying to be set on a copy of a slice from a DataFrame\n",
      "\n",
      "See the caveats in the documentation: https://pandas.pydata.org/pandas-docs/stable/user_guide/indexing.html#returning-a-view-versus-a-copy\n",
      "  return super().drop(\n"
     ]
    }
   ],
   "source": [
    "df2.drop(columns=df2_cat.columns,axis=1,inplace=True)"
   ]
  },
  {
   "cell_type": "code",
   "execution_count": 92,
   "metadata": {},
   "outputs": [],
   "source": [
    "newdf=pd.concat([df2,dummy_var_df2],axis=1)"
   ]
  },
  {
   "cell_type": "code",
   "execution_count": 93,
   "metadata": {},
   "outputs": [
    {
     "data": {
      "text/plain": [
       "(9813, 626)"
      ]
     },
     "execution_count": 93,
     "metadata": {},
     "output_type": "execute_result"
    }
   ],
   "source": [
    "newdf.shape"
   ]
  },
  {
   "cell_type": "code",
   "execution_count": 94,
   "metadata": {},
   "outputs": [],
   "source": [
    "from sklearn.preprocessing import StandardScaler"
   ]
  },
  {
   "cell_type": "code",
   "execution_count": 95,
   "metadata": {},
   "outputs": [],
   "source": [
    "sc=StandardScaler()"
   ]
  },
  {
   "cell_type": "code",
   "execution_count": 96,
   "metadata": {},
   "outputs": [],
   "source": [
    "sc_data=sc.fit_transform(newdf)"
   ]
  },
  {
   "cell_type": "code",
   "execution_count": 97,
   "metadata": {},
   "outputs": [],
   "source": [
    "sc_df=pd.DataFrame(sc_data,columns=newdf.columns)"
   ]
  },
  {
   "cell_type": "code",
   "execution_count": 98,
   "metadata": {},
   "outputs": [
    {
     "data": {
      "text/html": [
       "<div>\n",
       "<style scoped>\n",
       "    .dataframe tbody tr th:only-of-type {\n",
       "        vertical-align: middle;\n",
       "    }\n",
       "\n",
       "    .dataframe tbody tr th {\n",
       "        vertical-align: top;\n",
       "    }\n",
       "\n",
       "    .dataframe thead th {\n",
       "        text-align: right;\n",
       "    }\n",
       "</style>\n",
       "<table border=\"1\" class=\"dataframe\">\n",
       "  <thead>\n",
       "    <tr style=\"text-align: right;\">\n",
       "      <th></th>\n",
       "      <th>RIDAGEYR</th>\n",
       "      <th>RIDAGEMN</th>\n",
       "      <th>RIDRETH1</th>\n",
       "      <th>RIDRETH3</th>\n",
       "      <th>RIDEXAGM</th>\n",
       "      <th>DMQMILIZ</th>\n",
       "      <th>DMQADFC</th>\n",
       "      <th>DMDBORN4</th>\n",
       "      <th>DMDCITZN</th>\n",
       "      <th>DMDYRSUS</th>\n",
       "      <th>...</th>\n",
       "      <th>URDUCDLC_1.0</th>\n",
       "      <th>URDUCOLC_1.0</th>\n",
       "      <th>URDUMNLC_1.0</th>\n",
       "      <th>URDUPBLC_1.0</th>\n",
       "      <th>URDUSBLC_1.0</th>\n",
       "      <th>URDUSNLC_1.0</th>\n",
       "      <th>URDUSRLC_1.0</th>\n",
       "      <th>URDUTLLC_1.0</th>\n",
       "      <th>URDUTULC_1.0</th>\n",
       "      <th>URDUURLC_1.0</th>\n",
       "    </tr>\n",
       "  </thead>\n",
       "  <tbody>\n",
       "    <tr>\n",
       "      <th>0</th>\n",
       "      <td>1.531807</td>\n",
       "      <td>-0.218113</td>\n",
       "      <td>0.725587</td>\n",
       "      <td>0.449104</td>\n",
       "      <td>-0.657859</td>\n",
       "      <td>-0.191701</td>\n",
       "      <td>2.547002</td>\n",
       "      <td>-0.139098</td>\n",
       "      <td>-0.285271</td>\n",
       "      <td>-0.198509</td>\n",
       "      <td>...</td>\n",
       "      <td>-0.227527</td>\n",
       "      <td>-0.014278</td>\n",
       "      <td>-0.482322</td>\n",
       "      <td>-0.053493</td>\n",
       "      <td>-0.25497</td>\n",
       "      <td>-0.162349</td>\n",
       "      <td>-0.010095</td>\n",
       "      <td>-0.04631</td>\n",
       "      <td>-0.214594</td>\n",
       "      <td>-0.224789</td>\n",
       "    </tr>\n",
       "    <tr>\n",
       "      <th>1</th>\n",
       "      <td>0.916959</td>\n",
       "      <td>-0.218113</td>\n",
       "      <td>-0.066337</td>\n",
       "      <td>-0.172835</td>\n",
       "      <td>-0.657859</td>\n",
       "      <td>0.852810</td>\n",
       "      <td>-0.219321</td>\n",
       "      <td>-0.139098</td>\n",
       "      <td>-0.285271</td>\n",
       "      <td>-0.198509</td>\n",
       "      <td>...</td>\n",
       "      <td>-0.227527</td>\n",
       "      <td>-0.014278</td>\n",
       "      <td>-0.482322</td>\n",
       "      <td>-0.053493</td>\n",
       "      <td>-0.25497</td>\n",
       "      <td>-0.162349</td>\n",
       "      <td>-0.010095</td>\n",
       "      <td>-0.04631</td>\n",
       "      <td>-0.214594</td>\n",
       "      <td>-0.224789</td>\n",
       "    </tr>\n",
       "    <tr>\n",
       "      <th>2</th>\n",
       "      <td>1.654776</td>\n",
       "      <td>-0.218113</td>\n",
       "      <td>-0.066337</td>\n",
       "      <td>-0.172835</td>\n",
       "      <td>-0.657859</td>\n",
       "      <td>-0.191701</td>\n",
       "      <td>2.547002</td>\n",
       "      <td>-0.139098</td>\n",
       "      <td>-0.285271</td>\n",
       "      <td>-0.198509</td>\n",
       "      <td>...</td>\n",
       "      <td>-0.227527</td>\n",
       "      <td>-0.014278</td>\n",
       "      <td>-0.482322</td>\n",
       "      <td>-0.053493</td>\n",
       "      <td>-0.25497</td>\n",
       "      <td>-0.162349</td>\n",
       "      <td>-0.010095</td>\n",
       "      <td>-0.04631</td>\n",
       "      <td>-0.214594</td>\n",
       "      <td>-0.224789</td>\n",
       "    </tr>\n",
       "    <tr>\n",
       "      <th>3</th>\n",
       "      <td>-0.927582</td>\n",
       "      <td>-0.218113</td>\n",
       "      <td>-0.066337</td>\n",
       "      <td>-0.172835</td>\n",
       "      <td>1.038698</td>\n",
       "      <td>-1.236213</td>\n",
       "      <td>-0.219321</td>\n",
       "      <td>-0.139098</td>\n",
       "      <td>-0.285271</td>\n",
       "      <td>-0.198509</td>\n",
       "      <td>...</td>\n",
       "      <td>4.395085</td>\n",
       "      <td>-0.014278</td>\n",
       "      <td>2.073306</td>\n",
       "      <td>-0.053493</td>\n",
       "      <td>-0.25497</td>\n",
       "      <td>-0.162349</td>\n",
       "      <td>-0.010095</td>\n",
       "      <td>-0.04631</td>\n",
       "      <td>-0.214594</td>\n",
       "      <td>-0.224789</td>\n",
       "    </tr>\n",
       "    <tr>\n",
       "      <th>4</th>\n",
       "      <td>1.695766</td>\n",
       "      <td>-0.218113</td>\n",
       "      <td>-0.066337</td>\n",
       "      <td>-0.172835</td>\n",
       "      <td>-0.657859</td>\n",
       "      <td>0.852810</td>\n",
       "      <td>-0.219321</td>\n",
       "      <td>-0.139098</td>\n",
       "      <td>-0.285271</td>\n",
       "      <td>-0.198509</td>\n",
       "      <td>...</td>\n",
       "      <td>-0.227527</td>\n",
       "      <td>-0.014278</td>\n",
       "      <td>-0.482322</td>\n",
       "      <td>-0.053493</td>\n",
       "      <td>-0.25497</td>\n",
       "      <td>-0.162349</td>\n",
       "      <td>-0.010095</td>\n",
       "      <td>-0.04631</td>\n",
       "      <td>-0.214594</td>\n",
       "      <td>-0.224789</td>\n",
       "    </tr>\n",
       "  </tbody>\n",
       "</table>\n",
       "<p>5 rows × 626 columns</p>\n",
       "</div>"
      ],
      "text/plain": [
       "   RIDAGEYR  RIDAGEMN  RIDRETH1  RIDRETH3  RIDEXAGM  DMQMILIZ   DMQADFC  \\\n",
       "0  1.531807 -0.218113  0.725587  0.449104 -0.657859 -0.191701  2.547002   \n",
       "1  0.916959 -0.218113 -0.066337 -0.172835 -0.657859  0.852810 -0.219321   \n",
       "2  1.654776 -0.218113 -0.066337 -0.172835 -0.657859 -0.191701  2.547002   \n",
       "3 -0.927582 -0.218113 -0.066337 -0.172835  1.038698 -1.236213 -0.219321   \n",
       "4  1.695766 -0.218113 -0.066337 -0.172835 -0.657859  0.852810 -0.219321   \n",
       "\n",
       "   DMDBORN4  DMDCITZN  DMDYRSUS  ...  URDUCDLC_1.0  URDUCOLC_1.0  \\\n",
       "0 -0.139098 -0.285271 -0.198509  ...     -0.227527     -0.014278   \n",
       "1 -0.139098 -0.285271 -0.198509  ...     -0.227527     -0.014278   \n",
       "2 -0.139098 -0.285271 -0.198509  ...     -0.227527     -0.014278   \n",
       "3 -0.139098 -0.285271 -0.198509  ...      4.395085     -0.014278   \n",
       "4 -0.139098 -0.285271 -0.198509  ...     -0.227527     -0.014278   \n",
       "\n",
       "   URDUMNLC_1.0  URDUPBLC_1.0  URDUSBLC_1.0  URDUSNLC_1.0  URDUSRLC_1.0  \\\n",
       "0     -0.482322     -0.053493      -0.25497     -0.162349     -0.010095   \n",
       "1     -0.482322     -0.053493      -0.25497     -0.162349     -0.010095   \n",
       "2     -0.482322     -0.053493      -0.25497     -0.162349     -0.010095   \n",
       "3      2.073306     -0.053493      -0.25497     -0.162349     -0.010095   \n",
       "4     -0.482322     -0.053493      -0.25497     -0.162349     -0.010095   \n",
       "\n",
       "   URDUTLLC_1.0  URDUTULC_1.0  URDUURLC_1.0  \n",
       "0      -0.04631     -0.214594     -0.224789  \n",
       "1      -0.04631     -0.214594     -0.224789  \n",
       "2      -0.04631     -0.214594     -0.224789  \n",
       "3      -0.04631     -0.214594     -0.224789  \n",
       "4      -0.04631     -0.214594     -0.224789  \n",
       "\n",
       "[5 rows x 626 columns]"
      ]
     },
     "execution_count": 98,
     "metadata": {},
     "output_type": "execute_result"
    }
   ],
   "source": [
    "sc_df.head()"
   ]
  },
  {
   "cell_type": "code",
   "execution_count": 99,
   "metadata": {},
   "outputs": [
    {
     "name": "stdout",
     "output_type": "stream",
     "text": [
      "For 2 clusters the silhouette score is 0.14911103024158423)\n",
      "For 3 clusters the silhouette score is 0.1813552330540448)\n",
      "For 4 clusters the silhouette score is 0.14814667380348992)\n",
      "For 5 clusters the silhouette score is 0.11232819123350542)\n",
      "For 6 clusters the silhouette score is 0.11780354286578018)\n"
     ]
    }
   ],
   "source": [
    "from sklearn.cluster import KMeans\n",
    "from sklearn.metrics import silhouette_score,silhouette_samples\n",
    "n_clusters = [2, 3, 4, 5, 6]\n",
    "silscore=[]\n",
    "for K in n_clusters:\n",
    "    cluster = KMeans (n_clusters= K, random_state= 10)\n",
    "    predict = cluster.fit_predict(sc_df)\n",
    "    score = silhouette_score(sc_df, predict, random_state= 10)\n",
    "    silscore.append(score)\n",
    "    print (\"For {} clusters the silhouette score is {})\".format(K, score))"
   ]
  },
  {
   "cell_type": "markdown",
   "metadata": {},
   "source": [
    "not good score "
   ]
  },
  {
   "cell_type": "code",
   "execution_count": 100,
   "metadata": {},
   "outputs": [
    {
     "data": {
      "text/plain": [
       "[0.14911103024158423,\n",
       " 0.1813552330540448,\n",
       " 0.14814667380348992,\n",
       " 0.11232819123350542,\n",
       " 0.11780354286578018]"
      ]
     },
     "execution_count": 100,
     "metadata": {},
     "output_type": "execute_result"
    }
   ],
   "source": [
    "silscore"
   ]
  },
  {
   "cell_type": "code",
   "execution_count": 101,
   "metadata": {},
   "outputs": [],
   "source": [
    "import seaborn as sns"
   ]
  },
  {
   "cell_type": "code",
   "execution_count": 102,
   "metadata": {},
   "outputs": [
    {
     "data": {
      "text/plain": [
       "<AxesSubplot:>"
      ]
     },
     "execution_count": 102,
     "metadata": {},
     "output_type": "execute_result"
    },
    {
     "data": {
      "image/png": "[encoded data removed]",
      "text/plain": [
       "<Figure size 432x288 with 1 Axes>"
      ]
     },
     "metadata": {
      "needs_background": "light"
     },
     "output_type": "display_data"
    }
   ],
   "source": [
    "sns.lineplot(x=[1,2,3,4,5],y=silscore)"
   ]
  },
  {
   "cell_type": "code",
   "execution_count": null,
   "metadata": {},
   "outputs": [],
   "source": []
  },
  {
   "cell_type": "code",
   "execution_count": 103,
   "metadata": {},
   "outputs": [
    {
     "data": {
      "text/plain": [
       "(9813, 626)"
      ]
     },
     "execution_count": 103,
     "metadata": {},
     "output_type": "execute_result"
    }
   ],
   "source": [
    "sc_df.shape"
   ]
  },
  {
   "cell_type": "code",
   "execution_count": 104,
   "metadata": {},
   "outputs": [
    {
     "data": {
      "text/html": [
       "<div>\n",
       "<style scoped>\n",
       "    .dataframe tbody tr th:only-of-type {\n",
       "        vertical-align: middle;\n",
       "    }\n",
       "\n",
       "    .dataframe tbody tr th {\n",
       "        vertical-align: top;\n",
       "    }\n",
       "\n",
       "    .dataframe thead th {\n",
       "        text-align: right;\n",
       "    }\n",
       "</style>\n",
       "<table border=\"1\" class=\"dataframe\">\n",
       "  <thead>\n",
       "    <tr style=\"text-align: right;\">\n",
       "      <th></th>\n",
       "      <th>RIDAGEYR</th>\n",
       "      <th>RIDAGEMN</th>\n",
       "      <th>RIDRETH1</th>\n",
       "      <th>RIDRETH3</th>\n",
       "      <th>RIDEXAGM</th>\n",
       "      <th>DMQMILIZ</th>\n",
       "      <th>DMQADFC</th>\n",
       "      <th>DMDBORN4</th>\n",
       "      <th>DMDCITZN</th>\n",
       "      <th>DMDYRSUS</th>\n",
       "      <th>...</th>\n",
       "      <th>URDUCDLC_1.0</th>\n",
       "      <th>URDUCOLC_1.0</th>\n",
       "      <th>URDUMNLC_1.0</th>\n",
       "      <th>URDUPBLC_1.0</th>\n",
       "      <th>URDUSBLC_1.0</th>\n",
       "      <th>URDUSNLC_1.0</th>\n",
       "      <th>URDUSRLC_1.0</th>\n",
       "      <th>URDUTLLC_1.0</th>\n",
       "      <th>URDUTULC_1.0</th>\n",
       "      <th>URDUURLC_1.0</th>\n",
       "    </tr>\n",
       "  </thead>\n",
       "  <tbody>\n",
       "    <tr>\n",
       "      <th>0</th>\n",
       "      <td>1.531807</td>\n",
       "      <td>-0.218113</td>\n",
       "      <td>0.725587</td>\n",
       "      <td>0.449104</td>\n",
       "      <td>-0.657859</td>\n",
       "      <td>-0.191701</td>\n",
       "      <td>2.547002</td>\n",
       "      <td>-0.139098</td>\n",
       "      <td>-0.285271</td>\n",
       "      <td>-0.198509</td>\n",
       "      <td>...</td>\n",
       "      <td>-0.227527</td>\n",
       "      <td>-0.014278</td>\n",
       "      <td>-0.482322</td>\n",
       "      <td>-0.053493</td>\n",
       "      <td>-0.25497</td>\n",
       "      <td>-0.162349</td>\n",
       "      <td>-0.010095</td>\n",
       "      <td>-0.04631</td>\n",
       "      <td>-0.214594</td>\n",
       "      <td>-0.224789</td>\n",
       "    </tr>\n",
       "    <tr>\n",
       "      <th>1</th>\n",
       "      <td>0.916959</td>\n",
       "      <td>-0.218113</td>\n",
       "      <td>-0.066337</td>\n",
       "      <td>-0.172835</td>\n",
       "      <td>-0.657859</td>\n",
       "      <td>0.852810</td>\n",
       "      <td>-0.219321</td>\n",
       "      <td>-0.139098</td>\n",
       "      <td>-0.285271</td>\n",
       "      <td>-0.198509</td>\n",
       "      <td>...</td>\n",
       "      <td>-0.227527</td>\n",
       "      <td>-0.014278</td>\n",
       "      <td>-0.482322</td>\n",
       "      <td>-0.053493</td>\n",
       "      <td>-0.25497</td>\n",
       "      <td>-0.162349</td>\n",
       "      <td>-0.010095</td>\n",
       "      <td>-0.04631</td>\n",
       "      <td>-0.214594</td>\n",
       "      <td>-0.224789</td>\n",
       "    </tr>\n",
       "    <tr>\n",
       "      <th>2</th>\n",
       "      <td>1.654776</td>\n",
       "      <td>-0.218113</td>\n",
       "      <td>-0.066337</td>\n",
       "      <td>-0.172835</td>\n",
       "      <td>-0.657859</td>\n",
       "      <td>-0.191701</td>\n",
       "      <td>2.547002</td>\n",
       "      <td>-0.139098</td>\n",
       "      <td>-0.285271</td>\n",
       "      <td>-0.198509</td>\n",
       "      <td>...</td>\n",
       "      <td>-0.227527</td>\n",
       "      <td>-0.014278</td>\n",
       "      <td>-0.482322</td>\n",
       "      <td>-0.053493</td>\n",
       "      <td>-0.25497</td>\n",
       "      <td>-0.162349</td>\n",
       "      <td>-0.010095</td>\n",
       "      <td>-0.04631</td>\n",
       "      <td>-0.214594</td>\n",
       "      <td>-0.224789</td>\n",
       "    </tr>\n",
       "    <tr>\n",
       "      <th>3</th>\n",
       "      <td>-0.927582</td>\n",
       "      <td>-0.218113</td>\n",
       "      <td>-0.066337</td>\n",
       "      <td>-0.172835</td>\n",
       "      <td>1.038698</td>\n",
       "      <td>-1.236213</td>\n",
       "      <td>-0.219321</td>\n",
       "      <td>-0.139098</td>\n",
       "      <td>-0.285271</td>\n",
       "      <td>-0.198509</td>\n",
       "      <td>...</td>\n",
       "      <td>4.395085</td>\n",
       "      <td>-0.014278</td>\n",
       "      <td>2.073306</td>\n",
       "      <td>-0.053493</td>\n",
       "      <td>-0.25497</td>\n",
       "      <td>-0.162349</td>\n",
       "      <td>-0.010095</td>\n",
       "      <td>-0.04631</td>\n",
       "      <td>-0.214594</td>\n",
       "      <td>-0.224789</td>\n",
       "    </tr>\n",
       "    <tr>\n",
       "      <th>4</th>\n",
       "      <td>1.695766</td>\n",
       "      <td>-0.218113</td>\n",
       "      <td>-0.066337</td>\n",
       "      <td>-0.172835</td>\n",
       "      <td>-0.657859</td>\n",
       "      <td>0.852810</td>\n",
       "      <td>-0.219321</td>\n",
       "      <td>-0.139098</td>\n",
       "      <td>-0.285271</td>\n",
       "      <td>-0.198509</td>\n",
       "      <td>...</td>\n",
       "      <td>-0.227527</td>\n",
       "      <td>-0.014278</td>\n",
       "      <td>-0.482322</td>\n",
       "      <td>-0.053493</td>\n",
       "      <td>-0.25497</td>\n",
       "      <td>-0.162349</td>\n",
       "      <td>-0.010095</td>\n",
       "      <td>-0.04631</td>\n",
       "      <td>-0.214594</td>\n",
       "      <td>-0.224789</td>\n",
       "    </tr>\n",
       "  </tbody>\n",
       "</table>\n",
       "<p>5 rows × 626 columns</p>\n",
       "</div>"
      ],
      "text/plain": [
       "   RIDAGEYR  RIDAGEMN  RIDRETH1  RIDRETH3  RIDEXAGM  DMQMILIZ   DMQADFC  \\\n",
       "0  1.531807 -0.218113  0.725587  0.449104 -0.657859 -0.191701  2.547002   \n",
       "1  0.916959 -0.218113 -0.066337 -0.172835 -0.657859  0.852810 -0.219321   \n",
       "2  1.654776 -0.218113 -0.066337 -0.172835 -0.657859 -0.191701  2.547002   \n",
       "3 -0.927582 -0.218113 -0.066337 -0.172835  1.038698 -1.236213 -0.219321   \n",
       "4  1.695766 -0.218113 -0.066337 -0.172835 -0.657859  0.852810 -0.219321   \n",
       "\n",
       "   DMDBORN4  DMDCITZN  DMDYRSUS  ...  URDUCDLC_1.0  URDUCOLC_1.0  \\\n",
       "0 -0.139098 -0.285271 -0.198509  ...     -0.227527     -0.014278   \n",
       "1 -0.139098 -0.285271 -0.198509  ...     -0.227527     -0.014278   \n",
       "2 -0.139098 -0.285271 -0.198509  ...     -0.227527     -0.014278   \n",
       "3 -0.139098 -0.285271 -0.198509  ...      4.395085     -0.014278   \n",
       "4 -0.139098 -0.285271 -0.198509  ...     -0.227527     -0.014278   \n",
       "\n",
       "   URDUMNLC_1.0  URDUPBLC_1.0  URDUSBLC_1.0  URDUSNLC_1.0  URDUSRLC_1.0  \\\n",
       "0     -0.482322     -0.053493      -0.25497     -0.162349     -0.010095   \n",
       "1     -0.482322     -0.053493      -0.25497     -0.162349     -0.010095   \n",
       "2     -0.482322     -0.053493      -0.25497     -0.162349     -0.010095   \n",
       "3      2.073306     -0.053493      -0.25497     -0.162349     -0.010095   \n",
       "4     -0.482322     -0.053493      -0.25497     -0.162349     -0.010095   \n",
       "\n",
       "   URDUTLLC_1.0  URDUTULC_1.0  URDUURLC_1.0  \n",
       "0      -0.04631     -0.214594     -0.224789  \n",
       "1      -0.04631     -0.214594     -0.224789  \n",
       "2      -0.04631     -0.214594     -0.224789  \n",
       "3      -0.04631     -0.214594     -0.224789  \n",
       "4      -0.04631     -0.214594     -0.224789  \n",
       "\n",
       "[5 rows x 626 columns]"
      ]
     },
     "execution_count": 104,
     "metadata": {},
     "output_type": "execute_result"
    }
   ],
   "source": [
    "sc_df.head()"
   ]
  },
  {
   "cell_type": "markdown",
   "metadata": {},
   "source": [
    "now lets apply PCA on the data"
   ]
  },
  {
   "cell_type": "code",
   "execution_count": 105,
   "metadata": {},
   "outputs": [
    {
     "name": "stdout",
     "output_type": "stream",
     "text": [
      "The number of principle components capturing 95 percent variation in data is :  240  Variance explained is  0.9506856366980323\n"
     ]
    }
   ],
   "source": [
    "from sklearn.decomposition import PCA \n",
    "pca = PCA(n_components = sc_df.shape[1])\n",
    "pca_data = pca.fit_transform(sc_df)\n",
    "exp_var_ratio= pca.explained_variance_ratio_\n",
    "exp_var_ratio.round(3)\n",
    "\n",
    "cum_var=exp_var_ratio[0]\n",
    "itr=2 # defined as two as first pc1 variance defined outside the loop\n",
    "for j in exp_var_ratio[1:]:\n",
    "    cum_var=cum_var+j\n",
    "    if cum_var >= 0.95:\n",
    "        break\n",
    "    itr=itr+1\n",
    "print('The number of principle components capturing 95 percent variation in data is : ',itr,' Variance explained is ', cum_var)"
   ]
  },
  {
   "cell_type": "code",
   "execution_count": 64,
   "metadata": {},
   "outputs": [
    {
     "data": {
      "text/plain": [
       "240"
      ]
     },
     "execution_count": 64,
     "metadata": {},
     "output_type": "execute_result"
    }
   ],
   "source": [
    "itr"
   ]
  },
  {
   "cell_type": "code",
   "execution_count": 65,
   "metadata": {},
   "outputs": [],
   "source": [
    "pca = PCA(n_components=240)"
   ]
  },
  {
   "cell_type": "code",
   "execution_count": 66,
   "metadata": {},
   "outputs": [],
   "source": [
    "pca_data=pca.fit_transform(sc_df)"
   ]
  },
  {
   "cell_type": "code",
   "execution_count": 70,
   "metadata": {},
   "outputs": [],
   "source": [
    "pcadf=pd.DataFrame(pca_data)"
   ]
  },
  {
   "cell_type": "code",
   "execution_count": null,
   "metadata": {},
   "outputs": [],
   "source": []
  },
  {
   "cell_type": "code",
   "execution_count": 71,
   "metadata": {},
   "outputs": [
    {
     "name": "stdout",
     "output_type": "stream",
     "text": [
      "For 2 clusters the silhouette score is 0.15631306219120186)\n",
      "For 3 clusters the silhouette score is 0.18971727898942886)\n",
      "For 4 clusters the silhouette score is 0.15696249828173162)\n",
      "For 5 clusters the silhouette score is 0.12287209846840652)\n",
      "For 6 clusters the silhouette score is 0.127690424424369)\n"
     ]
    }
   ],
   "source": [
    "n_clusters = [2, 3, 4, 5, 6]\n",
    "silscore=[]\n",
    "for K in n_clusters:\n",
    "    cluster = KMeans (n_clusters= K, random_state= 10)\n",
    "    predict = cluster.fit_predict(pcadf)\n",
    "    score = silhouette_score(pcadf, predict, random_state= 10)\n",
    "    silscore.append(score)\n",
    "    print (\"For {} clusters the silhouette score is {})\".format(K, score))"
   ]
  },
  {
   "cell_type": "code",
   "execution_count": null,
   "metadata": {},
   "outputs": [],
   "source": []
  },
  {
   "cell_type": "markdown",
   "metadata": {},
   "source": [
    "which is still not a good score "
   ]
  },
  {
   "cell_type": "markdown",
   "metadata": {},
   "source": [
    "so lets apply the same with hirachial clustering "
   ]
  },
  {
   "cell_type": "code",
   "execution_count": 107,
   "metadata": {},
   "outputs": [
    {
     "name": "stdout",
     "output_type": "stream",
     "text": [
      "For 2 clusters the silhouette score is 0.11068498417143338)\n",
      "For 3 clusters the silhouette score is 0.1353081687920648)\n",
      "For 4 clusters the silhouette score is 0.1544235599823816)\n",
      "For 5 clusters the silhouette score is 0.1047362348480143)\n",
      "For 6 clusters the silhouette score is 0.10751391587936872)\n"
     ]
    }
   ],
   "source": [
    "from sklearn.cluster import AgglomerativeClustering\n",
    "n_clusters = [2, 3, 4, 5, 6]\n",
    "silscore=[]\n",
    "for K in n_clusters:\n",
    "    cluster = AgglomerativeClustering (n_clusters= K)\n",
    "    predict = cluster.fit_predict(pcadf)\n",
    "    score = silhouette_score(pcadf, predict, random_state= 10)\n",
    "    silscore.append(score)\n",
    "    print (\"For {} clusters the silhouette score is {})\".format(K, score))"
   ]
  },
  {
   "cell_type": "code",
   "execution_count": null,
   "metadata": {},
   "outputs": [],
   "source": []
  },
  {
   "cell_type": "markdown",
   "metadata": {},
   "source": [
    "Still not getting good score "
   ]
  },
  {
   "cell_type": "code",
   "execution_count": null,
   "metadata": {},
   "outputs": [],
   "source": []
  },
  {
   "cell_type": "code",
   "execution_count": 209,
   "metadata": {},
   "outputs": [],
   "source": [
    "df1=pd.read_csv('df.csv')"
   ]
  },
  {
   "cell_type": "code",
   "execution_count": 210,
   "metadata": {},
   "outputs": [],
   "source": [
    "df1.fillna(df1.mean(),inplace=True)"
   ]
  },
  {
   "cell_type": "code",
   "execution_count": null,
   "metadata": {},
   "outputs": [],
   "source": []
  },
  {
   "cell_type": "code",
   "execution_count": null,
   "metadata": {},
   "outputs": [],
   "source": []
  },
  {
   "cell_type": "code",
   "execution_count": 211,
   "metadata": {},
   "outputs": [],
   "source": [
    "df3=df1[list(df1.columns[1:])]"
   ]
  },
  {
   "cell_type": "code",
   "execution_count": 212,
   "metadata": {},
   "outputs": [
    {
     "data": {
      "text/html": [
       "<div>\n",
       "<style scoped>\n",
       "    .dataframe tbody tr th:only-of-type {\n",
       "        vertical-align: middle;\n",
       "    }\n",
       "\n",
       "    .dataframe tbody tr th {\n",
       "        vertical-align: top;\n",
       "    }\n",
       "\n",
       "    .dataframe thead th {\n",
       "        text-align: right;\n",
       "    }\n",
       "</style>\n",
       "<table border=\"1\" class=\"dataframe\">\n",
       "  <thead>\n",
       "    <tr style=\"text-align: right;\">\n",
       "      <th></th>\n",
       "      <th>SDDSRVYR</th>\n",
       "      <th>RIDSTATR</th>\n",
       "      <th>RIAGENDR</th>\n",
       "      <th>RIDAGEYR</th>\n",
       "      <th>RIDAGEMN</th>\n",
       "      <th>RIDRETH1</th>\n",
       "      <th>RIDRETH3</th>\n",
       "      <th>RIDEXMON</th>\n",
       "      <th>RIDEXAGM</th>\n",
       "      <th>DMQMILIZ</th>\n",
       "      <th>...</th>\n",
       "      <th>DRD340</th>\n",
       "      <th>DRD360</th>\n",
       "      <th>URXUMA</th>\n",
       "      <th>URXUMS</th>\n",
       "      <th>URXUCR.x</th>\n",
       "      <th>URXCRS</th>\n",
       "      <th>URDACT</th>\n",
       "      <th>LBXSAL</th>\n",
       "      <th>LBDSALSI</th>\n",
       "      <th>LBXSAPSI</th>\n",
       "    </tr>\n",
       "  </thead>\n",
       "  <tbody>\n",
       "    <tr>\n",
       "      <th>0</th>\n",
       "      <td>8</td>\n",
       "      <td>2</td>\n",
       "      <td>1</td>\n",
       "      <td>69</td>\n",
       "      <td>10.258567</td>\n",
       "      <td>4</td>\n",
       "      <td>4</td>\n",
       "      <td>1</td>\n",
       "      <td>107.478519</td>\n",
       "      <td>1.000000</td>\n",
       "      <td>...</td>\n",
       "      <td>6.586219</td>\n",
       "      <td>-6.527018</td>\n",
       "      <td>9.182882</td>\n",
       "      <td>-9.018023</td>\n",
       "      <td>-6.181923</td>\n",
       "      <td>5.151193</td>\n",
       "      <td>-9.708139</td>\n",
       "      <td>2.814690</td>\n",
       "      <td>-2.712184</td>\n",
       "      <td>-6.811191</td>\n",
       "    </tr>\n",
       "    <tr>\n",
       "      <th>1</th>\n",
       "      <td>8</td>\n",
       "      <td>2</td>\n",
       "      <td>1</td>\n",
       "      <td>54</td>\n",
       "      <td>10.258567</td>\n",
       "      <td>3</td>\n",
       "      <td>3</td>\n",
       "      <td>1</td>\n",
       "      <td>107.478519</td>\n",
       "      <td>2.000000</td>\n",
       "      <td>...</td>\n",
       "      <td>-9.588554</td>\n",
       "      <td>1.863741</td>\n",
       "      <td>-9.378731</td>\n",
       "      <td>8.289190</td>\n",
       "      <td>-2.561066</td>\n",
       "      <td>-3.755943</td>\n",
       "      <td>1.406037</td>\n",
       "      <td>7.590942</td>\n",
       "      <td>0.480820</td>\n",
       "      <td>-4.636475</td>\n",
       "    </tr>\n",
       "    <tr>\n",
       "      <th>2</th>\n",
       "      <td>8</td>\n",
       "      <td>2</td>\n",
       "      <td>1</td>\n",
       "      <td>72</td>\n",
       "      <td>10.258567</td>\n",
       "      <td>3</td>\n",
       "      <td>3</td>\n",
       "      <td>2</td>\n",
       "      <td>107.478519</td>\n",
       "      <td>1.000000</td>\n",
       "      <td>...</td>\n",
       "      <td>-5.229054</td>\n",
       "      <td>6.379788</td>\n",
       "      <td>-9.433054</td>\n",
       "      <td>-9.285869</td>\n",
       "      <td>9.248429</td>\n",
       "      <td>-7.439368</td>\n",
       "      <td>8.374918</td>\n",
       "      <td>8.401561</td>\n",
       "      <td>-9.936335</td>\n",
       "      <td>0.913262</td>\n",
       "    </tr>\n",
       "    <tr>\n",
       "      <th>3</th>\n",
       "      <td>8</td>\n",
       "      <td>2</td>\n",
       "      <td>1</td>\n",
       "      <td>9</td>\n",
       "      <td>10.258567</td>\n",
       "      <td>3</td>\n",
       "      <td>3</td>\n",
       "      <td>1</td>\n",
       "      <td>119.000000</td>\n",
       "      <td>1.914606</td>\n",
       "      <td>...</td>\n",
       "      <td>7.428271</td>\n",
       "      <td>-1.193575</td>\n",
       "      <td>6.972074</td>\n",
       "      <td>-0.257756</td>\n",
       "      <td>-5.087773</td>\n",
       "      <td>8.581422</td>\n",
       "      <td>4.767615</td>\n",
       "      <td>9.760521</td>\n",
       "      <td>-4.708915</td>\n",
       "      <td>7.624684</td>\n",
       "    </tr>\n",
       "    <tr>\n",
       "      <th>4</th>\n",
       "      <td>8</td>\n",
       "      <td>2</td>\n",
       "      <td>2</td>\n",
       "      <td>73</td>\n",
       "      <td>10.258567</td>\n",
       "      <td>3</td>\n",
       "      <td>3</td>\n",
       "      <td>1</td>\n",
       "      <td>107.478519</td>\n",
       "      <td>2.000000</td>\n",
       "      <td>...</td>\n",
       "      <td>2.125105</td>\n",
       "      <td>-2.906226</td>\n",
       "      <td>1.977286</td>\n",
       "      <td>-1.322955</td>\n",
       "      <td>-1.034636</td>\n",
       "      <td>6.702919</td>\n",
       "      <td>-1.735375</td>\n",
       "      <td>-4.799543</td>\n",
       "      <td>1.194572</td>\n",
       "      <td>-7.098007</td>\n",
       "    </tr>\n",
       "  </tbody>\n",
       "</table>\n",
       "<p>5 rows × 635 columns</p>\n",
       "</div>"
      ],
      "text/plain": [
       "   SDDSRVYR  RIDSTATR  RIAGENDR  RIDAGEYR   RIDAGEMN  RIDRETH1  RIDRETH3  \\\n",
       "0         8         2         1        69  10.258567         4         4   \n",
       "1         8         2         1        54  10.258567         3         3   \n",
       "2         8         2         1        72  10.258567         3         3   \n",
       "3         8         2         1         9  10.258567         3         3   \n",
       "4         8         2         2        73  10.258567         3         3   \n",
       "\n",
       "   RIDEXMON    RIDEXAGM  DMQMILIZ  ...    DRD340    DRD360    URXUMA  \\\n",
       "0         1  107.478519  1.000000  ...  6.586219 -6.527018  9.182882   \n",
       "1         1  107.478519  2.000000  ... -9.588554  1.863741 -9.378731   \n",
       "2         2  107.478519  1.000000  ... -5.229054  6.379788 -9.433054   \n",
       "3         1  119.000000  1.914606  ...  7.428271 -1.193575  6.972074   \n",
       "4         1  107.478519  2.000000  ...  2.125105 -2.906226  1.977286   \n",
       "\n",
       "     URXUMS  URXUCR.x    URXCRS    URDACT    LBXSAL  LBDSALSI  LBXSAPSI  \n",
       "0 -9.018023 -6.181923  5.151193 -9.708139  2.814690 -2.712184 -6.811191  \n",
       "1  8.289190 -2.561066 -3.755943  1.406037  7.590942  0.480820 -4.636475  \n",
       "2 -9.285869  9.248429 -7.439368  8.374918  8.401561 -9.936335  0.913262  \n",
       "3 -0.257756 -5.087773  8.581422  4.767615  9.760521 -4.708915  7.624684  \n",
       "4 -1.322955 -1.034636  6.702919 -1.735375 -4.799543  1.194572 -7.098007  \n",
       "\n",
       "[5 rows x 635 columns]"
      ]
     },
     "execution_count": 212,
     "metadata": {},
     "output_type": "execute_result"
    }
   ],
   "source": [
    "df3.head()"
   ]
  },
  {
   "cell_type": "code",
   "execution_count": 213,
   "metadata": {},
   "outputs": [],
   "source": [
    "checkForCategoricalVarsWhichIsNotGivingRelavantInfo(df3)"
   ]
  },
  {
   "cell_type": "code",
   "execution_count": 214,
   "metadata": {},
   "outputs": [
    {
     "name": "stderr",
     "output_type": "stream",
     "text": [
      "C:\\Users\\skv\\anaconda3\\lib\\site-packages\\pandas\\core\\frame.py:4163: SettingWithCopyWarning: \n",
      "A value is trying to be set on a copy of a slice from a DataFrame\n",
      "\n",
      "See the caveats in the documentation: https://pandas.pydata.org/pandas-docs/stable/user_guide/indexing.html#returning-a-view-versus-a-copy\n",
      "  return super().drop(\n"
     ]
    }
   ],
   "source": [
    "df3.drop(columns=uselessCols,inplace=True)"
   ]
  },
  {
   "cell_type": "code",
   "execution_count": 215,
   "metadata": {},
   "outputs": [
    {
     "name": "stderr",
     "output_type": "stream",
     "text": [
      "C:\\Users\\skv\\anaconda3\\lib\\site-packages\\pandas\\core\\frame.py:3065: SettingWithCopyWarning: \n",
      "A value is trying to be set on a copy of a slice from a DataFrame.\n",
      "Try using .loc[row_indexer,col_indexer] = value instead\n",
      "\n",
      "See the caveats in the documentation: https://pandas.pydata.org/pandas-docs/stable/user_guide/indexing.html#returning-a-view-versus-a-copy\n",
      "  self[k1] = value[k2]\n"
     ]
    }
   ],
   "source": [
    "checkForCategoricalVarsWhichIsNotGivingRelavantInfo(df3)\n",
    "df3[categoricalColumns]=df3[categoricalColumns].astype(object)\n",
    "df3_cat=df3.select_dtypes(include=[np.object])\n",
    "dummy_var_df3=pd.get_dummies(data=df3_cat,drop_first=True)\n",
    "df3.drop(columns=df3_cat.columns,axis=1,inplace=True)\n",
    "newdf=pd.concat([df3,dummy_var_df3],axis=1)"
   ]
  },
  {
   "cell_type": "code",
   "execution_count": 216,
   "metadata": {},
   "outputs": [],
   "source": [
    "sc_data=sc.fit_transform(newdf)"
   ]
  },
  {
   "cell_type": "code",
   "execution_count": 217,
   "metadata": {},
   "outputs": [],
   "source": [
    "sc_df=pd.DataFrame(sc_data,columns=newdf.columns)"
   ]
  },
  {
   "cell_type": "code",
   "execution_count": 218,
   "metadata": {},
   "outputs": [
    {
     "name": "stdout",
     "output_type": "stream",
     "text": [
      "The number of principle components capturing 95 percent variation in data is :  328  Variance explained is  0.9502368899667969\n"
     ]
    }
   ],
   "source": [
    "from sklearn.decomposition import PCA \n",
    "pca = PCA(n_components = sc_df.shape[1],random_state=10)\n",
    "pca_data = pca.fit_transform(sc_df)\n",
    "exp_var_ratio= pca.explained_variance_ratio_\n",
    "exp_var_ratio.round(3)\n",
    "\n",
    "cum_var=exp_var_ratio[0]\n",
    "itr=2 # defined as two as first pc1 variance defined outside the loop\n",
    "for j in exp_var_ratio[1:]:\n",
    "    cum_var=cum_var+j\n",
    "    if cum_var >= 0.95:\n",
    "        break\n",
    "    itr=itr+1\n",
    "print('The number of principle components capturing 95 percent variation in data is : ',itr,' Variance explained is ', cum_var)"
   ]
  },
  {
   "cell_type": "code",
   "execution_count": 219,
   "metadata": {},
   "outputs": [],
   "source": [
    "pca = PCA(n_components=328)\n",
    "pca_data=pca.fit_transform(sc_df)\n",
    "pcadf=pd.DataFrame(pca_data)"
   ]
  },
  {
   "cell_type": "code",
   "execution_count": 220,
   "metadata": {},
   "outputs": [
    {
     "name": "stdout",
     "output_type": "stream",
     "text": [
      "For 2 clusters the silhouette score is 0.07771556587067323)\n",
      "For 3 clusters the silhouette score is 0.11454722485022842)\n",
      "For 4 clusters the silhouette score is 0.07990858538216834)\n",
      "For 5 clusters the silhouette score is 0.04187063921323319)\n",
      "For 6 clusters the silhouette score is 0.06461511181955633)\n"
     ]
    }
   ],
   "source": [
    "n_clusters = [2, 3, 4, 5, 6]\n",
    "silscore=[]\n",
    "for K in n_clusters:\n",
    "    cluster = KMeans (n_clusters= K, random_state= 10)\n",
    "    predict = cluster.fit_predict(pcadf)\n",
    "    score = silhouette_score(pcadf, predict, random_state= 10)\n",
    "    silscore.append(score)\n",
    "    print (\"For {} clusters the silhouette score is {})\".format(K, score))"
   ]
  },
  {
   "cell_type": "code",
   "execution_count": 221,
   "metadata": {},
   "outputs": [
    {
     "name": "stdout",
     "output_type": "stream",
     "text": [
      "For 2 clusters the silhouette score is 0.30628457163714873)\n",
      "For 3 clusters the silhouette score is 0.10178095931286854)\n",
      "For 4 clusters the silhouette score is 0.09340554843720023)\n",
      "For 5 clusters the silhouette score is 0.03802697189643252)\n",
      "For 6 clusters the silhouette score is 0.05027027227165554)\n"
     ]
    }
   ],
   "source": [
    "from sklearn.cluster import AgglomerativeClustering\n",
    "n_clusters = [2, 3, 4, 5, 6]\n",
    "silscore=[]\n",
    "for K in n_clusters:\n",
    "    cluster = AgglomerativeClustering (n_clusters= K)\n",
    "    predict = cluster.fit_predict(pcadf)\n",
    "    score = silhouette_score(pcadf, predict, random_state= 10)\n",
    "    silscore.append(score)\n",
    "    print (\"For {} clusters the silhouette score is {})\".format(K, score))"
   ]
  },
  {
   "cell_type": "code",
   "execution_count": 222,
   "metadata": {},
   "outputs": [
    {
     "data": {
      "text/plain": [
       "(9813, 328)"
      ]
     },
     "execution_count": 222,
     "metadata": {},
     "output_type": "execute_result"
    }
   ],
   "source": [
    "pca_data.shape"
   ]
  },
  {
   "cell_type": "markdown",
   "metadata": {},
   "source": [
    "now lets replace median"
   ]
  },
  {
   "cell_type": "code",
   "execution_count": 242,
   "metadata": {},
   "outputs": [],
   "source": [
    "df1=pd.read_csv('df.csv')"
   ]
  },
  {
   "cell_type": "code",
   "execution_count": 243,
   "metadata": {},
   "outputs": [],
   "source": [
    "df1.fillna(df1.median(),inplace=True)"
   ]
  },
  {
   "cell_type": "code",
   "execution_count": 244,
   "metadata": {},
   "outputs": [],
   "source": [
    "df_median=df1[list(df1.columns[1:])]"
   ]
  },
  {
   "cell_type": "code",
   "execution_count": 245,
   "metadata": {},
   "outputs": [],
   "source": [
    "checkForCategoricalVarsWhichIsNotGivingRelavantInfo(df_median)"
   ]
  },
  {
   "cell_type": "code",
   "execution_count": 246,
   "metadata": {},
   "outputs": [
    {
     "name": "stderr",
     "output_type": "stream",
     "text": [
      "C:\\Users\\skv\\anaconda3\\lib\\site-packages\\pandas\\core\\frame.py:4163: SettingWithCopyWarning: \n",
      "A value is trying to be set on a copy of a slice from a DataFrame\n",
      "\n",
      "See the caveats in the documentation: https://pandas.pydata.org/pandas-docs/stable/user_guide/indexing.html#returning-a-view-versus-a-copy\n",
      "  return super().drop(\n"
     ]
    }
   ],
   "source": [
    "df_median.drop(columns=uselessCols,inplace=True)"
   ]
  },
  {
   "cell_type": "code",
   "execution_count": 247,
   "metadata": {},
   "outputs": [
    {
     "name": "stderr",
     "output_type": "stream",
     "text": [
      "C:\\Users\\skv\\anaconda3\\lib\\site-packages\\pandas\\core\\frame.py:3065: SettingWithCopyWarning: \n",
      "A value is trying to be set on a copy of a slice from a DataFrame.\n",
      "Try using .loc[row_indexer,col_indexer] = value instead\n",
      "\n",
      "See the caveats in the documentation: https://pandas.pydata.org/pandas-docs/stable/user_guide/indexing.html#returning-a-view-versus-a-copy\n",
      "  self[k1] = value[k2]\n"
     ]
    }
   ],
   "source": [
    "checkForCategoricalVarsWhichIsNotGivingRelavantInfo(df_median)\n",
    "df_median[categoricalColumns]=df_median[categoricalColumns].astype(object)\n",
    "df_median_cat=df_median.select_dtypes(include=[np.object])\n",
    "dummy_var_df_median=pd.get_dummies(data=df_median_cat,drop_first=True)\n",
    "df_median.drop(columns=df_median_cat.columns,axis=1,inplace=True)\n",
    "newdf=pd.concat([df_median,dummy_var_df3],axis=1)"
   ]
  },
  {
   "cell_type": "code",
   "execution_count": 248,
   "metadata": {},
   "outputs": [
    {
     "name": "stdout",
     "output_type": "stream",
     "text": [
      "The number of principle components capturing 95 percent variation in data is :  325  Variance explained is  0.9503504255615741\n"
     ]
    }
   ],
   "source": [
    "sc_data=sc.fit_transform(newdf)\n",
    "sc_df=pd.DataFrame(sc_data,columns=newdf.columns)\n",
    "\n",
    "from sklearn.decomposition import PCA \n",
    "pca = PCA(n_components = sc_df.shape[1])\n",
    "pca_data = pca.fit_transform(sc_df)\n",
    "exp_var_ratio= pca.explained_variance_ratio_\n",
    "exp_var_ratio.round(3)\n",
    "\n",
    "cum_var=exp_var_ratio[0]\n",
    "itr=2 # defined as two as first pc1 variance defined outside the loop\n",
    "for j in exp_var_ratio[1:]:\n",
    "    cum_var=cum_var+j\n",
    "    if cum_var >= 0.95:\n",
    "        break\n",
    "    itr=itr+1\n",
    "print('The number of principle components capturing 95 percent variation in data is : ',itr,' Variance explained is ', cum_var)"
   ]
  },
  {
   "cell_type": "code",
   "execution_count": 249,
   "metadata": {},
   "outputs": [],
   "source": [
    "pca = PCA(n_components=308)\n",
    "pca_data=pca.fit_transform(sc_df)\n",
    "pcadf=pd.DataFrame(pca_data)"
   ]
  },
  {
   "cell_type": "code",
   "execution_count": 207,
   "metadata": {},
   "outputs": [
    {
     "name": "stdout",
     "output_type": "stream",
     "text": [
      "For 2 clusters the silhouette score is 0.07924374878804641)\n",
      "For 3 clusters the silhouette score is 0.07306248450204349)\n",
      "For 4 clusters the silhouette score is 0.07732560266995735)\n",
      "For 5 clusters the silhouette score is 0.046503039636793274)\n",
      "For 6 clusters the silhouette score is 0.054216285468674234)\n"
     ]
    }
   ],
   "source": [
    "n_clusters = [2, 3, 4, 5, 6]\n",
    "silscore=[]\n",
    "for K in n_clusters:\n",
    "    cluster = KMeans (n_clusters= K, random_state= 10)\n",
    "    predict = cluster.fit_predict(pcadf)\n",
    "    score = silhouette_score(pcadf, predict, random_state= 10)\n",
    "    silscore.append(score)\n",
    "    print (\"For {} clusters the silhouette score is {})\".format(K, score))"
   ]
  },
  {
   "cell_type": "code",
   "execution_count": 250,
   "metadata": {},
   "outputs": [
    {
     "name": "stdout",
     "output_type": "stream",
     "text": [
      "For 2 clusters the silhouette score is 0.31555720826040157)\n",
      "For 3 clusters the silhouette score is 0.10515813912579783)\n",
      "For 4 clusters the silhouette score is 0.09627897738850538)\n",
      "For 5 clusters the silhouette score is 0.03447373715603147)\n",
      "For 6 clusters the silhouette score is 0.047549032244996806)\n"
     ]
    }
   ],
   "source": [
    "from sklearn.cluster import AgglomerativeClustering\n",
    "n_clusters = [2, 3, 4, 5, 6]\n",
    "silscore=[]\n",
    "for K in n_clusters:\n",
    "    cluster = AgglomerativeClustering (n_clusters= K)\n",
    "    predict = cluster.fit_predict(pcadf)\n",
    "    score = silhouette_score(pcadf, predict, random_state= 10)\n",
    "    silscore.append(score)\n",
    "    print (\"For {} clusters the silhouette score is {})\".format(K, score))"
   ]
  },
  {
   "cell_type": "code",
   "execution_count": null,
   "metadata": {},
   "outputs": [],
   "source": []
  },
  {
   "cell_type": "code",
   "execution_count": 251,
   "metadata": {},
   "outputs": [],
   "source": [
    "\n",
    "ac2=AgglomerativeClustering(n_clusters=2)\n",
    "\n"
   ]
  },
  {
   "cell_type": "code",
   "execution_count": 256,
   "metadata": {},
   "outputs": [],
   "source": [
    "cluster=ac2.fit_predict(pcadf)"
   ]
  },
  {
   "cell_type": "code",
   "execution_count": 285,
   "metadata": {},
   "outputs": [],
   "source": [
    "finalDF=df['SEQN']"
   ]
  },
  {
   "cell_type": "code",
   "execution_count": 286,
   "metadata": {},
   "outputs": [
    {
     "data": {
      "text/plain": [
       "array([0, 0, 0, ..., 0, 0, 0], dtype=int64)"
      ]
     },
     "execution_count": 286,
     "metadata": {},
     "output_type": "execute_result"
    }
   ],
   "source": [
    "cluster"
   ]
  },
  {
   "cell_type": "code",
   "execution_count": 287,
   "metadata": {},
   "outputs": [
    {
     "data": {
      "text/plain": [
       "0    73557\n",
       "1    73558\n",
       "2    73559\n",
       "3    73560\n",
       "4    73561\n",
       "Name: SEQN, dtype: int64"
      ]
     },
     "execution_count": 287,
     "metadata": {},
     "output_type": "execute_result"
    }
   ],
   "source": [
    "finalDF.head()"
   ]
  },
  {
   "cell_type": "code",
   "execution_count": 288,
   "metadata": {},
   "outputs": [],
   "source": [
    "clusterdf=pd.DataFrame(cluster.tolist(),columns=['Cluster'])"
   ]
  },
  {
   "cell_type": "code",
   "execution_count": 289,
   "metadata": {},
   "outputs": [],
   "source": [
    "fina=pd.concat([finalDF,clusterdf],axis=1)"
   ]
  },
  {
   "cell_type": "code",
   "execution_count": 290,
   "metadata": {},
   "outputs": [
    {
     "data": {
      "text/html": [
       "<div>\n",
       "<style scoped>\n",
       "    .dataframe tbody tr th:only-of-type {\n",
       "        vertical-align: middle;\n",
       "    }\n",
       "\n",
       "    .dataframe tbody tr th {\n",
       "        vertical-align: top;\n",
       "    }\n",
       "\n",
       "    .dataframe thead th {\n",
       "        text-align: right;\n",
       "    }\n",
       "</style>\n",
       "<table border=\"1\" class=\"dataframe\">\n",
       "  <thead>\n",
       "    <tr style=\"text-align: right;\">\n",
       "      <th></th>\n",
       "      <th>SEQN</th>\n",
       "      <th>Cluster</th>\n",
       "    </tr>\n",
       "  </thead>\n",
       "  <tbody>\n",
       "    <tr>\n",
       "      <th>0</th>\n",
       "      <td>73557</td>\n",
       "      <td>0</td>\n",
       "    </tr>\n",
       "    <tr>\n",
       "      <th>1</th>\n",
       "      <td>73558</td>\n",
       "      <td>0</td>\n",
       "    </tr>\n",
       "    <tr>\n",
       "      <th>2</th>\n",
       "      <td>73559</td>\n",
       "      <td>0</td>\n",
       "    </tr>\n",
       "    <tr>\n",
       "      <th>3</th>\n",
       "      <td>73560</td>\n",
       "      <td>0</td>\n",
       "    </tr>\n",
       "    <tr>\n",
       "      <th>4</th>\n",
       "      <td>73561</td>\n",
       "      <td>0</td>\n",
       "    </tr>\n",
       "  </tbody>\n",
       "</table>\n",
       "</div>"
      ],
      "text/plain": [
       "    SEQN  Cluster\n",
       "0  73557        0\n",
       "1  73558        0\n",
       "2  73559        0\n",
       "3  73560        0\n",
       "4  73561        0"
      ]
     },
     "execution_count": 290,
     "metadata": {},
     "output_type": "execute_result"
    }
   ],
   "source": [
    "fina.head()"
   ]
  },
  {
   "cell_type": "code",
   "execution_count": null,
   "metadata": {},
   "outputs": [],
   "source": []
  },
  {
   "cell_type": "code",
   "execution_count": 291,
   "metadata": {},
   "outputs": [],
   "source": [
    "\n",
    "import matplotlib.pyplot as plt"
   ]
  },
  {
   "cell_type": "code",
   "execution_count": null,
   "metadata": {},
   "outputs": [],
   "source": []
  },
  {
   "cell_type": "code",
   "execution_count": 294,
   "metadata": {},
   "outputs": [],
   "source": [
    "fina.to_csv('AmitNayak_1.csv',index=False)"
   ]
  },
  {
   "cell_type": "code",
   "execution_count": null,
   "metadata": {},
   "outputs": [],
   "source": []
  }
 ],
 "metadata": {
  "kernelspec": {
   "display_name": "Python 3",
   "language": "python",
   "name": "python3"
  },
  "language_info": {
   "codemirror_mode": {
    "name": "ipython",
    "version": 3
   },
   "file_extension": ".py",
   "mimetype": "text/x-python",
   "name": "python",
   "nbconvert_exporter": "python",
   "pygments_lexer": "ipython3",
   "version": "3.8.5"
  }
 },
 "nbformat": 4,
 "nbformat_minor": 4
}
